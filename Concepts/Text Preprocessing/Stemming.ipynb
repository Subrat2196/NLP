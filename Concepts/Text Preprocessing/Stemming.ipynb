{
 "cells": [
  {
   "cell_type": "markdown",
   "id": "a1efa3c4-1147-44a8-aa2d-01c800f9e8c7",
   "metadata": {},
   "source": [
    "### Stemming is the process of reducing the word to its word stem"
   ]
  },
  {
   "cell_type": "markdown",
   "id": "26e69476-2421-43e5-ab80-f2b558fc8cb9",
   "metadata": {},
   "source": [
    "#### It is important in NLU(natural language understanding) and NLP(natural language processing)"
   ]
  },
  {
   "cell_type": "markdown",
   "id": "79963f0a-fc73-4ad5-82be-bc45e4cd1874",
   "metadata": {},
   "source": [
    "##### e.g -> eaten,eats,eating,etc. -> the stem word is ' eat ' , therefore considering all words won't make such a difference as considering only stem word"
   ]
  },
  {
   "cell_type": "code",
   "execution_count": 1,
   "id": "317d1aea-83c6-4d37-b078-8aa8d254dc3f",
   "metadata": {},
   "outputs": [],
   "source": [
    "# [going,gone,goes] -> go"
   ]
  },
  {
   "cell_type": "code",
   "execution_count": 2,
   "id": "245ce793-3965-4f88-9aa6-cefd271da04f",
   "metadata": {},
   "outputs": [],
   "source": [
    "words = ['writes','writing','written','going','goes','gone','eaten','eating','eats','programming','programs','programmed']"
   ]
  },
  {
   "cell_type": "markdown",
   "id": "a3a309ba-61c4-42d4-bd7c-52034292a7c5",
   "metadata": {},
   "source": [
    "### 1. Porter Stemmer"
   ]
  },
  {
   "cell_type": "code",
   "execution_count": 3,
   "id": "fe9d21be-80ce-4eb5-a134-efc907669715",
   "metadata": {},
   "outputs": [],
   "source": [
    "from nltk.stem import PorterStemmer"
   ]
  },
  {
   "cell_type": "code",
   "execution_count": 4,
   "id": "2eda44d0-4e3e-4e43-acb1-7cbcf7892bd0",
   "metadata": {},
   "outputs": [],
   "source": [
    "stemming = PorterStemmer()"
   ]
  },
  {
   "cell_type": "code",
   "execution_count": 5,
   "id": "3acaec9e-9bc9-41d2-b16d-a5066ad7a42d",
   "metadata": {},
   "outputs": [
    {
     "name": "stdout",
     "output_type": "stream",
     "text": [
      "writes ---> write\n",
      "writing ---> write\n",
      "written ---> written\n",
      "going ---> go\n",
      "goes ---> goe\n",
      "gone ---> gone\n",
      "eaten ---> eaten\n",
      "eating ---> eat\n",
      "eats ---> eat\n",
      "programming ---> program\n",
      "programs ---> program\n",
      "programmed ---> program\n"
     ]
    }
   ],
   "source": [
    "for word in words:\n",
    "    print(word + \" ---> \"+stemming.stem(word))"
   ]
  },
  {
   "cell_type": "markdown",
   "id": "3f46e400-652b-4e08-b7e8-7aedefdcc6d5",
   "metadata": {},
   "source": [
    "##### Here you can see 'goes' become 'goe' which is an issue in stemming, since word has changed the meaning"
   ]
  },
  {
   "cell_type": "code",
   "execution_count": 6,
   "id": "0ddb8472-d456-474e-9bd4-c70885db02dd",
   "metadata": {},
   "outputs": [
    {
     "data": {
      "text/plain": [
       "'congratul'"
      ]
     },
     "execution_count": 6,
     "metadata": {},
     "output_type": "execute_result"
    }
   ],
   "source": [
    "stemming.stem('congratulations')"
   ]
  },
  {
   "cell_type": "markdown",
   "id": "431abc01-ff0e-4fe6-8b79-0799573a4097",
   "metadata": {},
   "source": [
    "##### same issue we can see here"
   ]
  },
  {
   "cell_type": "code",
   "execution_count": 32,
   "id": "7469d961-17c0-4711-9b39-3ae24647cbbc",
   "metadata": {},
   "outputs": [
    {
     "data": {
      "text/plain": [
       "'playlist'"
      ]
     },
     "execution_count": 32,
     "metadata": {},
     "output_type": "execute_result"
    }
   ],
   "source": [
    "stemming.stem(\"playlist\")"
   ]
  },
  {
   "cell_type": "markdown",
   "id": "38ef87c2-6159-431b-8303-f839e25db5da",
   "metadata": {},
   "source": [
    "#### We can use this in spam , ham of email etc"
   ]
  },
  {
   "cell_type": "code",
   "execution_count": null,
   "id": "9f9b25bb-d9eb-42c6-84fc-14c7fafebe4c",
   "metadata": {},
   "outputs": [],
   "source": []
  },
  {
   "cell_type": "markdown",
   "id": "a9896019-76e6-465d-a7a3-9169eecb784d",
   "metadata": {},
   "source": [
    "### 2. RegexpStemmer class"
   ]
  },
  {
   "cell_type": "code",
   "execution_count": 8,
   "id": "0699d0ba-6e94-4e49-ad10-04c7536d1f5c",
   "metadata": {},
   "outputs": [],
   "source": [
    "from nltk.stem import RegexpStemmer"
   ]
  },
  {
   "cell_type": "code",
   "execution_count": 17,
   "id": "0eff3e92-e28f-48c7-8015-07c1fb144992",
   "metadata": {},
   "outputs": [],
   "source": [
    "reg_stem = RegexpStemmer('ing$|s$|e$|able$|es$',min=4)"
   ]
  },
  {
   "cell_type": "code",
   "execution_count": 18,
   "id": "509b4c6e-4d8e-4345-a5c2-d1c068b6e449",
   "metadata": {},
   "outputs": [
    {
     "data": {
      "text/plain": [
       "'eat'"
      ]
     },
     "execution_count": 18,
     "metadata": {},
     "output_type": "execute_result"
    }
   ],
   "source": [
    "reg_stem.stem('eating')"
   ]
  },
  {
   "cell_type": "code",
   "execution_count": 19,
   "id": "c4ad95e9-65c5-416b-b4a5-9bed5e4aeb1b",
   "metadata": {},
   "outputs": [
    {
     "data": {
      "text/plain": [
       "'go'"
      ]
     },
     "execution_count": 19,
     "metadata": {},
     "output_type": "execute_result"
    }
   ],
   "source": [
    "reg_stem.stem('goes')"
   ]
  },
  {
   "cell_type": "code",
   "execution_count": 21,
   "id": "71777d4e-847a-4388-b4dd-78056ce8e434",
   "metadata": {},
   "outputs": [
    {
     "data": {
      "text/plain": [
       "'trad'"
      ]
     },
     "execution_count": 21,
     "metadata": {},
     "output_type": "execute_result"
    }
   ],
   "source": [
    "reg_stem.stem('trades')  # Here meaning got changed"
   ]
  },
  {
   "cell_type": "code",
   "execution_count": null,
   "id": "5ad07d41-8caa-4bf1-8013-fe90b0e0197f",
   "metadata": {},
   "outputs": [],
   "source": []
  },
  {
   "cell_type": "markdown",
   "id": "d40cf433-f6dd-4aa8-8c90-aae2427575f2",
   "metadata": {},
   "source": [
    "### 3. Snowball Stemmer"
   ]
  },
  {
   "cell_type": "code",
   "execution_count": 23,
   "id": "7d378ff1-c696-4379-8b6b-924795569bc1",
   "metadata": {},
   "outputs": [],
   "source": [
    "from nltk.stem import SnowballStemmer"
   ]
  },
  {
   "cell_type": "code",
   "execution_count": 26,
   "id": "5a809500-c5af-47be-b777-af602dd0f8f4",
   "metadata": {},
   "outputs": [],
   "source": [
    "snow_stem = SnowballStemmer('english')"
   ]
  },
  {
   "cell_type": "code",
   "execution_count": 27,
   "id": "10abe9aa-dcc2-45e3-bf3e-98656504c433",
   "metadata": {},
   "outputs": [
    {
     "data": {
      "text/plain": [
       "'subtract'"
      ]
     },
     "execution_count": 27,
     "metadata": {},
     "output_type": "execute_result"
    }
   ],
   "source": [
    "snow_stem.stem('Subtracting')"
   ]
  },
  {
   "cell_type": "code",
   "execution_count": 28,
   "id": "a6022cc7-e7ab-4308-a029-ce02ccad9d17",
   "metadata": {},
   "outputs": [
    {
     "data": {
      "text/plain": [
       "'playlist'"
      ]
     },
     "execution_count": 28,
     "metadata": {},
     "output_type": "execute_result"
    }
   ],
   "source": [
    "snow_stem.stem('playlist')"
   ]
  },
  {
   "cell_type": "code",
   "execution_count": 29,
   "id": "3fb9eb8b-36e8-497b-b093-13c8731a37f3",
   "metadata": {},
   "outputs": [
    {
     "data": {
      "text/plain": [
       "'eat'"
      ]
     },
     "execution_count": 29,
     "metadata": {},
     "output_type": "execute_result"
    }
   ],
   "source": [
    "snow_stem.stem('eats')"
   ]
  },
  {
   "cell_type": "code",
   "execution_count": 31,
   "id": "fb552a2b-352b-4b9d-8f6b-77af143346b1",
   "metadata": {},
   "outputs": [
    {
     "data": {
      "text/plain": [
       "'histori'"
      ]
     },
     "execution_count": 31,
     "metadata": {},
     "output_type": "execute_result"
    }
   ],
   "source": [
    "snow_stem.stem('history')  # Here we again see the issue"
   ]
  },
  {
   "cell_type": "code",
   "execution_count": 34,
   "id": "80b62152-7664-4183-b331-538e2e3c0ea0",
   "metadata": {},
   "outputs": [
    {
     "data": {
      "text/plain": [
       "'goe'"
      ]
     },
     "execution_count": 34,
     "metadata": {},
     "output_type": "execute_result"
    }
   ],
   "source": [
    "snow_stem.stem('goes') # Here we again see the issue"
   ]
  },
  {
   "cell_type": "code",
   "execution_count": null,
   "id": "c9aac467-13c3-4fba-9179-fcb9f8647fff",
   "metadata": {},
   "outputs": [],
   "source": []
  },
  {
   "cell_type": "code",
   "execution_count": null,
   "id": "bf847061-68d2-440b-a82d-c15713dfde16",
   "metadata": {},
   "outputs": [],
   "source": []
  },
  {
   "cell_type": "markdown",
   "id": "c7de6bde-beb8-4522-964d-b57e63a370aa",
   "metadata": {},
   "source": [
    "## For working in Chatbots etc, this wont work"
   ]
  },
  {
   "cell_type": "code",
   "execution_count": null,
   "id": "de903eef-7b4c-40f0-9bc0-761f58bf7e33",
   "metadata": {},
   "outputs": [],
   "source": []
  }
 ],
 "metadata": {
  "kernelspec": {
   "display_name": "Python 3 (ipykernel)",
   "language": "python",
   "name": "python3"
  },
  "language_info": {
   "codemirror_mode": {
    "name": "ipython",
    "version": 3
   },
   "file_extension": ".py",
   "mimetype": "text/x-python",
   "name": "python",
   "nbconvert_exporter": "python",
   "pygments_lexer": "ipython3",
   "version": "3.11.7"
  }
 },
 "nbformat": 4,
 "nbformat_minor": 5
}
