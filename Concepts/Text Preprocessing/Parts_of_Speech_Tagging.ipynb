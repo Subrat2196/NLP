{
 "cells": [
  {
   "cell_type": "code",
   "execution_count": 1,
   "id": "ddf49e2e-3e7e-461a-8477-84543d01150f",
   "metadata": {},
   "outputs": [],
   "source": [
    "corpus = \"\"\"\n",
    "\"Dream, dream, dream. Dreams transform into thoughts, and thoughts result in action. \n",
    "You have the power to shape your destiny. Education is the most powerful weapon to change the world.\n",
    "Embrace failure as a stepping stone to success, for it teaches resilience and determination.\n",
    "Let integrity and hard work guide your path. Remember, greatness is born from small beginnings. \n",
    "Serve others selflessly, for true success lies in contributing to society. Believe in yourself, and never stop learning. \n",
    "Together, we can build a nation of innovation, compassion, and progress. Let us strive to ignite minds and illuminate lives. Thank you.\"\n",
    "\"\"\""
   ]
  },
  {
   "cell_type": "code",
   "execution_count": 5,
   "id": "0c659922-ef0e-4657-be75-a78201d1836c",
   "metadata": {},
   "outputs": [],
   "source": [
    "from nltk.tokenize import sent_tokenize,word_tokenize"
   ]
  },
  {
   "cell_type": "code",
   "execution_count": 3,
   "id": "d5acbb0b-194e-4b27-9b7b-35db4fab4989",
   "metadata": {},
   "outputs": [],
   "source": [
    "document = sent_tokenize(corpus)"
   ]
  },
  {
   "cell_type": "code",
   "execution_count": 4,
   "id": "96421679-61d4-43ab-801b-22bbae05793b",
   "metadata": {},
   "outputs": [
    {
     "data": {
      "text/plain": [
       "['\\n\"Dream, dream, dream.',\n",
       " 'Dreams transform into thoughts, and thoughts result in action.',\n",
       " 'You have the power to shape your destiny.',\n",
       " 'Education is the most powerful weapon to change the world.',\n",
       " 'Embrace failure as a stepping stone to success, for it teaches resilience and determination.',\n",
       " 'Let integrity and hard work guide your path.',\n",
       " 'Remember, greatness is born from small beginnings.',\n",
       " 'Serve others selflessly, for true success lies in contributing to society.',\n",
       " 'Believe in yourself, and never stop learning.',\n",
       " 'Together, we can build a nation of innovation, compassion, and progress.',\n",
       " 'Let us strive to ignite minds and illuminate lives.',\n",
       " 'Thank you.\"']"
      ]
     },
     "execution_count": 4,
     "metadata": {},
     "output_type": "execute_result"
    }
   ],
   "source": [
    "document"
   ]
  },
  {
   "cell_type": "code",
   "execution_count": 10,
   "id": "0446336b-fc5c-4900-84f0-05aaf0a7b84a",
   "metadata": {},
   "outputs": [],
   "source": [
    "import nltk"
   ]
  },
  {
   "cell_type": "code",
   "execution_count": 13,
   "id": "231c3fab-0a33-44ab-903c-420faef0c2b9",
   "metadata": {},
   "outputs": [],
   "source": [
    "pos_statement = []\n",
    "for statement in document:\n",
    "    words = word_tokenize(statement)\n",
    "    words = nltk.pos_tag(words)\n",
    "    pos_statement.append(words)"
   ]
  },
  {
   "cell_type": "code",
   "execution_count": 14,
   "id": "39839d8f-550b-402f-94cf-9eadbe3092aa",
   "metadata": {},
   "outputs": [
    {
     "data": {
      "text/plain": [
       "[[(\"''\", \"''\"),\n",
       "  ('Dream', 'NN'),\n",
       "  (',', ','),\n",
       "  ('dream', 'NN'),\n",
       "  (',', ','),\n",
       "  ('dream', 'NN'),\n",
       "  ('.', '.')],\n",
       " [('Dreams', 'NNP'),\n",
       "  ('transform', 'NN'),\n",
       "  ('into', 'IN'),\n",
       "  ('thoughts', 'NNS'),\n",
       "  (',', ','),\n",
       "  ('and', 'CC'),\n",
       "  ('thoughts', 'NNS'),\n",
       "  ('result', 'NN'),\n",
       "  ('in', 'IN'),\n",
       "  ('action', 'NN'),\n",
       "  ('.', '.')],\n",
       " [('You', 'PRP'),\n",
       "  ('have', 'VBP'),\n",
       "  ('the', 'DT'),\n",
       "  ('power', 'NN'),\n",
       "  ('to', 'TO'),\n",
       "  ('shape', 'VB'),\n",
       "  ('your', 'PRP$'),\n",
       "  ('destiny', 'NN'),\n",
       "  ('.', '.')],\n",
       " [('Education', 'NN'),\n",
       "  ('is', 'VBZ'),\n",
       "  ('the', 'DT'),\n",
       "  ('most', 'RBS'),\n",
       "  ('powerful', 'JJ'),\n",
       "  ('weapon', 'NN'),\n",
       "  ('to', 'TO'),\n",
       "  ('change', 'VB'),\n",
       "  ('the', 'DT'),\n",
       "  ('world', 'NN'),\n",
       "  ('.', '.')],\n",
       " [('Embrace', 'NN'),\n",
       "  ('failure', 'NN'),\n",
       "  ('as', 'IN'),\n",
       "  ('a', 'DT'),\n",
       "  ('stepping', 'VBG'),\n",
       "  ('stone', 'NN'),\n",
       "  ('to', 'TO'),\n",
       "  ('success', 'NN'),\n",
       "  (',', ','),\n",
       "  ('for', 'IN'),\n",
       "  ('it', 'PRP'),\n",
       "  ('teaches', 'VBZ'),\n",
       "  ('resilience', 'NN'),\n",
       "  ('and', 'CC'),\n",
       "  ('determination', 'NN'),\n",
       "  ('.', '.')],\n",
       " [('Let', 'VB'),\n",
       "  ('integrity', 'NN'),\n",
       "  ('and', 'CC'),\n",
       "  ('hard', 'JJ'),\n",
       "  ('work', 'NN'),\n",
       "  ('guide', 'RB'),\n",
       "  ('your', 'PRP$'),\n",
       "  ('path', 'NN'),\n",
       "  ('.', '.')],\n",
       " [('Remember', 'NNP'),\n",
       "  (',', ','),\n",
       "  ('greatness', 'NN'),\n",
       "  ('is', 'VBZ'),\n",
       "  ('born', 'VBN'),\n",
       "  ('from', 'IN'),\n",
       "  ('small', 'JJ'),\n",
       "  ('beginnings', 'NNS'),\n",
       "  ('.', '.')],\n",
       " [('Serve', 'NNP'),\n",
       "  ('others', 'NNS'),\n",
       "  ('selflessly', 'RB'),\n",
       "  (',', ','),\n",
       "  ('for', 'IN'),\n",
       "  ('true', 'JJ'),\n",
       "  ('success', 'NN'),\n",
       "  ('lies', 'VBZ'),\n",
       "  ('in', 'IN'),\n",
       "  ('contributing', 'VBG'),\n",
       "  ('to', 'TO'),\n",
       "  ('society', 'NN'),\n",
       "  ('.', '.')],\n",
       " [('Believe', 'NNP'),\n",
       "  ('in', 'IN'),\n",
       "  ('yourself', 'PRP'),\n",
       "  (',', ','),\n",
       "  ('and', 'CC'),\n",
       "  ('never', 'RB'),\n",
       "  ('stop', 'VB'),\n",
       "  ('learning', 'NN'),\n",
       "  ('.', '.')],\n",
       " [('Together', 'RB'),\n",
       "  (',', ','),\n",
       "  ('we', 'PRP'),\n",
       "  ('can', 'MD'),\n",
       "  ('build', 'VB'),\n",
       "  ('a', 'DT'),\n",
       "  ('nation', 'NN'),\n",
       "  ('of', 'IN'),\n",
       "  ('innovation', 'NN'),\n",
       "  (',', ','),\n",
       "  ('compassion', 'NN'),\n",
       "  (',', ','),\n",
       "  ('and', 'CC'),\n",
       "  ('progress', 'NN'),\n",
       "  ('.', '.')],\n",
       " [('Let', 'VB'),\n",
       "  ('us', 'PRP'),\n",
       "  ('strive', 'VB'),\n",
       "  ('to', 'TO'),\n",
       "  ('ignite', 'VB'),\n",
       "  ('minds', 'NNS'),\n",
       "  ('and', 'CC'),\n",
       "  ('illuminate', 'JJ'),\n",
       "  ('lives', 'NNS'),\n",
       "  ('.', '.')],\n",
       " [('Thank', 'NNP'), ('you', 'PRP'), ('.', '.'), (\"''\", \"''\")]]"
      ]
     },
     "execution_count": 14,
     "metadata": {},
     "output_type": "execute_result"
    }
   ],
   "source": [
    "pos_statement"
   ]
  },
  {
   "cell_type": "code",
   "execution_count": 33,
   "id": "5825edde-a3d3-484a-a96b-659f015d44aa",
   "metadata": {},
   "outputs": [],
   "source": [
    "pos_statement_tag = []\n",
    "for i in [\"Khushboo is the best person in the world\".split()]:\n",
    "    pos_statement_tag.append(i)"
   ]
  },
  {
   "cell_type": "code",
   "execution_count": 34,
   "id": "77e87a41-0d36-4a8c-9fda-af9f6b3898af",
   "metadata": {},
   "outputs": [
    {
     "data": {
      "text/plain": [
       "[[('Khushboo', 'NNP'),\n",
       "  ('is', 'VBZ'),\n",
       "  ('the', 'DT'),\n",
       "  ('best', 'JJS'),\n",
       "  ('person', 'NN'),\n",
       "  ('in', 'IN'),\n",
       "  ('the', 'DT'),\n",
       "  ('world', 'NN')]]"
      ]
     },
     "execution_count": 34,
     "metadata": {},
     "output_type": "execute_result"
    }
   ],
   "source": [
    "nltk.pos_tag_sents(pos_statement_tag)"
   ]
  },
  {
   "cell_type": "code",
   "execution_count": null,
   "id": "0e3e1bf4-ff1b-49f7-8373-b02e0663e95b",
   "metadata": {},
   "outputs": [],
   "source": []
  }
 ],
 "metadata": {
  "kernelspec": {
   "display_name": "Python 3 (ipykernel)",
   "language": "python",
   "name": "python3"
  },
  "language_info": {
   "codemirror_mode": {
    "name": "ipython",
    "version": 3
   },
   "file_extension": ".py",
   "mimetype": "text/x-python",
   "name": "python",
   "nbconvert_exporter": "python",
   "pygments_lexer": "ipython3",
   "version": "3.11.7"
  }
 },
 "nbformat": 4,
 "nbformat_minor": 5
}
