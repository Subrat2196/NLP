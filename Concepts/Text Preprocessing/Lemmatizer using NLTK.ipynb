{
 "cells": [
  {
   "cell_type": "markdown",
   "id": "9ab50e30-8290-411f-9be1-6eb7a048c50b",
   "metadata": {},
   "source": [
    "## lemmatization is like stemming, it will create a lemma (root word) , but it will give us the root word rather than the stem word"
   ]
  },
  {
   "cell_type": "code",
   "execution_count": null,
   "id": "de9a68a2-3b9b-4f6a-9b8a-a771e097d558",
   "metadata": {},
   "outputs": [],
   "source": []
  },
  {
   "cell_type": "markdown",
   "id": "9e2e9cc5-b1d0-4d62-84e3-9a55b1557989",
   "metadata": {},
   "source": [
    "### 1. Wordnet Lemmatizer"
   ]
  },
  {
   "cell_type": "code",
   "execution_count": 1,
   "id": "2b8c7103-1c73-4b7c-9995-f1eb2cc0878c",
   "metadata": {},
   "outputs": [],
   "source": [
    "from nltk.stem import WordNetLemmatizer"
   ]
  },
  {
   "cell_type": "code",
   "execution_count": 2,
   "id": "09126602-998c-41ff-8480-28719935391d",
   "metadata": {},
   "outputs": [],
   "source": [
    "word_lemma = WordNetLemmatizer()"
   ]
  },
  {
   "cell_type": "code",
   "execution_count": 8,
   "id": "8cfacd64-f9de-454e-ac91-73db9b41ce6a",
   "metadata": {},
   "outputs": [
    {
     "data": {
      "text/plain": [
       "'go'"
      ]
     },
     "execution_count": 8,
     "metadata": {},
     "output_type": "execute_result"
    }
   ],
   "source": [
    "word_lemma.lemmatize('goes',pos='v')  # here pos is part of speech (pos) -> 'n' is noun (default pos parameter) , 'v' is verb , 'a' is adjective"
   ]
  },
  {
   "cell_type": "code",
   "execution_count": 7,
   "id": "e29d0ace-bd0e-493f-a5dc-04dfb7c236b3",
   "metadata": {},
   "outputs": [
    {
     "data": {
      "text/plain": [
       "'goes'"
      ]
     },
     "execution_count": 7,
     "metadata": {},
     "output_type": "execute_result"
    }
   ],
   "source": [
    "word_lemma.lemmatize('goes',pos='a') "
   ]
  },
  {
   "cell_type": "code",
   "execution_count": 4,
   "id": "3fbb0378-04fc-4a9e-8494-65916e56a825",
   "metadata": {},
   "outputs": [
    {
     "data": {
      "text/plain": [
       "'having'"
      ]
     },
     "execution_count": 4,
     "metadata": {},
     "output_type": "execute_result"
    }
   ],
   "source": [
    "word_lemma.lemmatize('having')"
   ]
  },
  {
   "cell_type": "code",
   "execution_count": 5,
   "id": "3cafaf61-1ead-4be1-8da3-b11d1d864564",
   "metadata": {},
   "outputs": [
    {
     "data": {
      "text/plain": [
       "'history'"
      ]
     },
     "execution_count": 5,
     "metadata": {},
     "output_type": "execute_result"
    }
   ],
   "source": [
    "word_lemma.lemmatize('history')"
   ]
  },
  {
   "cell_type": "markdown",
   "id": "3605013c-bb40-46de-960e-ce66f98f6882",
   "metadata": {},
   "source": [
    "#### Here we can see we are getting the correct words for goes , history , etc. which we were not getting in stemming"
   ]
  },
  {
   "cell_type": "markdown",
   "id": "d40da8ed-318e-425f-bbc9-cf712b876e16",
   "metadata": {},
   "source": [
    "### Lemmatization takes more time , since it is like a wrapper around wordnet corpus and it will compare then words from there "
   ]
  },
  {
   "cell_type": "code",
   "execution_count": null,
   "id": "603cfd25-21fd-4b94-9128-13df6887e7d6",
   "metadata": {},
   "outputs": [],
   "source": []
  }
 ],
 "metadata": {
  "kernelspec": {
   "display_name": "Python 3 (ipykernel)",
   "language": "python",
   "name": "python3"
  },
  "language_info": {
   "codemirror_mode": {
    "name": "ipython",
    "version": 3
   },
   "file_extension": ".py",
   "mimetype": "text/x-python",
   "name": "python",
   "nbconvert_exporter": "python",
   "pygments_lexer": "ipython3",
   "version": "3.11.7"
  }
 },
 "nbformat": 4,
 "nbformat_minor": 5
}
