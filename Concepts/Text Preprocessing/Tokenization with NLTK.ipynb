{
 "cells": [
  {
   "cell_type": "markdown",
   "id": "d1b086ec-6c95-478d-be9e-e4cf87a49d36",
   "metadata": {},
   "source": [
    "#### NLTK -> Natural Language tool kit"
   ]
  },
  {
   "cell_type": "code",
   "execution_count": 1,
   "id": "dbc0c784-baab-4e9b-b7c4-156495f29b18",
   "metadata": {},
   "outputs": [
    {
     "name": "stdout",
     "output_type": "stream",
     "text": [
      "Requirement already satisfied: nltk in c:\\users\\anonymous\\anaconda3\\lib\\site-packages (3.8.1)\n",
      "Requirement already satisfied: click in c:\\users\\anonymous\\anaconda3\\lib\\site-packages (from nltk) (8.1.7)\n",
      "Requirement already satisfied: joblib in c:\\users\\anonymous\\anaconda3\\lib\\site-packages (from nltk) (1.2.0)\n",
      "Requirement already satisfied: regex>=2021.8.3 in c:\\users\\anonymous\\anaconda3\\lib\\site-packages (from nltk) (2023.10.3)\n",
      "Requirement already satisfied: tqdm in c:\\users\\anonymous\\anaconda3\\lib\\site-packages (from nltk) (4.65.0)\n",
      "Requirement already satisfied: colorama in c:\\users\\anonymous\\anaconda3\\lib\\site-packages (from click->nltk) (0.4.6)\n"
     ]
    }
   ],
   "source": [
    "!pip3 install nltk"
   ]
  },
  {
   "cell_type": "code",
   "execution_count": 24,
   "id": "ec611bdb-cc02-4bd1-82bd-83e987b2665f",
   "metadata": {},
   "outputs": [],
   "source": [
    "corpus = \"\"\"Hello Welcome, to natural language processing by Subrat.\n",
    "Here you will learn about different tokenization's with NLTK library!\n",
    "Please stay with me, we will be going slowly forward.\n",
    "\"\"\""
   ]
  },
  {
   "cell_type": "code",
   "execution_count": 25,
   "id": "0cfc3cf9-8c01-4627-afdf-aef97a6ae3c8",
   "metadata": {},
   "outputs": [
    {
     "data": {
      "text/plain": [
       "\"Hello Welcome, to natural language processing by Subrat.\\nHere you will learn about different tokenization's with NLTK library!\\nPlease stay with me, we will be going slowly forward.\\n\""
      ]
     },
     "execution_count": 25,
     "metadata": {},
     "output_type": "execute_result"
    }
   ],
   "source": [
    "corpus"
   ]
  },
  {
   "cell_type": "markdown",
   "id": "3e81c95b-5a4d-44a6-96a1-1328d20c1129",
   "metadata": {},
   "source": [
    "##### Here we can see \\n is also coming whenever we are changing the line"
   ]
  },
  {
   "cell_type": "markdown",
   "id": "da8e5e64-88c2-492f-941e-8810dd379d5e",
   "metadata": {},
   "source": [
    "### Converting corpus to sentences"
   ]
  },
  {
   "cell_type": "code",
   "execution_count": 9,
   "id": "f8b77e6b-aeab-4408-9da7-c27c759191d0",
   "metadata": {},
   "outputs": [],
   "source": [
    "from nltk.tokenize import sent_tokenize"
   ]
  },
  {
   "cell_type": "code",
   "execution_count": 26,
   "id": "d4b78e7a-6608-41c3-9317-e770dc696b8e",
   "metadata": {},
   "outputs": [],
   "source": [
    "document = sent_tokenize(corpus)"
   ]
  },
  {
   "cell_type": "code",
   "execution_count": 27,
   "id": "cf919ae3-ad6c-4af3-b83f-e929cdd32123",
   "metadata": {},
   "outputs": [
    {
     "data": {
      "text/plain": [
       "['Hello Welcome, to natural language processing by Subrat.',\n",
       " \"Here you will learn about different tokenization's with NLTK library!\",\n",
       " 'Please stay with me, we will be going slowly forward.']"
      ]
     },
     "execution_count": 27,
     "metadata": {},
     "output_type": "execute_result"
    }
   ],
   "source": [
    "document"
   ]
  },
  {
   "cell_type": "code",
   "execution_count": 28,
   "id": "13f0dced-7f78-4fba-a569-7278d7da247a",
   "metadata": {},
   "outputs": [
    {
     "name": "stdout",
     "output_type": "stream",
     "text": [
      "Hello Welcome, to natural language processing by Subrat.\n",
      "Here you will learn about different tokenization's with NLTK library!\n",
      "Please stay with me, we will be going slowly forward.\n"
     ]
    }
   ],
   "source": [
    "for sentence in document:\n",
    "    print(sentence)"
   ]
  },
  {
   "cell_type": "markdown",
   "id": "a6cc29d8-58e8-445f-817a-4b6d46844c1a",
   "metadata": {},
   "source": [
    "### Converting corpus to words/Document into words"
   ]
  },
  {
   "cell_type": "code",
   "execution_count": 29,
   "id": "c4460018-0c7d-41f2-86ee-9af64199c8f2",
   "metadata": {},
   "outputs": [],
   "source": [
    "from nltk.tokenize import word_tokenize"
   ]
  },
  {
   "cell_type": "code",
   "execution_count": 30,
   "id": "e1d4d61e-9c5b-4492-9f72-bfc05c8d242e",
   "metadata": {},
   "outputs": [
    {
     "data": {
      "text/plain": [
       "['Hello',\n",
       " 'Welcome',\n",
       " ',',\n",
       " 'to',\n",
       " 'natural',\n",
       " 'language',\n",
       " 'processing',\n",
       " 'by',\n",
       " 'Subrat',\n",
       " '.',\n",
       " 'Here',\n",
       " 'you',\n",
       " 'will',\n",
       " 'learn',\n",
       " 'about',\n",
       " 'different',\n",
       " 'tokenization',\n",
       " \"'s\",\n",
       " 'with',\n",
       " 'NLTK',\n",
       " 'library',\n",
       " '!',\n",
       " 'Please',\n",
       " 'stay',\n",
       " 'with',\n",
       " 'me',\n",
       " ',',\n",
       " 'we',\n",
       " 'will',\n",
       " 'be',\n",
       " 'going',\n",
       " 'slowly',\n",
       " 'forward',\n",
       " '.']"
      ]
     },
     "execution_count": 30,
     "metadata": {},
     "output_type": "execute_result"
    }
   ],
   "source": [
    "words = word_tokenize(corpus)\n",
    "words"
   ]
  },
  {
   "cell_type": "code",
   "execution_count": 31,
   "id": "e9d66836-2cd8-4358-932a-e50179365c90",
   "metadata": {},
   "outputs": [
    {
     "name": "stdout",
     "output_type": "stream",
     "text": [
      "['Hello', 'Welcome', ',', 'to', 'natural', 'language', 'processing', 'by', 'Subrat', '.']\n",
      "['Here', 'you', 'will', 'learn', 'about', 'different', 'tokenization', \"'s\", 'with', 'NLTK', 'library', '!']\n",
      "['Please', 'stay', 'with', 'me', ',', 'we', 'will', 'be', 'going', 'slowly', 'forward', '.']\n"
     ]
    }
   ],
   "source": [
    "for sentence in document:\n",
    "    print(word_tokenize(sentence))"
   ]
  },
  {
   "cell_type": "markdown",
   "id": "b68720d1-cd89-41bd-a4bc-e2e5fe705103",
   "metadata": {},
   "source": [
    "#### here we can see it is considering \" 's' \" as a single word , if we need punctuations also as seperate , we can use wordpunct_tokenize"
   ]
  },
  {
   "cell_type": "code",
   "execution_count": 32,
   "id": "f7c1c98d-796c-4ef9-9a91-bde5d7c023e2",
   "metadata": {},
   "outputs": [],
   "source": [
    "from nltk.tokenize import wordpunct_tokenize"
   ]
  },
  {
   "cell_type": "code",
   "execution_count": 33,
   "id": "fc0e32bb-34ec-442f-8e16-6a0d5d43860d",
   "metadata": {},
   "outputs": [
    {
     "data": {
      "text/plain": [
       "['Hello',\n",
       " 'Welcome',\n",
       " ',',\n",
       " 'to',\n",
       " 'natural',\n",
       " 'language',\n",
       " 'processing',\n",
       " 'by',\n",
       " 'Subrat',\n",
       " '.',\n",
       " 'Here',\n",
       " 'you',\n",
       " 'will',\n",
       " 'learn',\n",
       " 'about',\n",
       " 'different',\n",
       " 'tokenization',\n",
       " \"'\",\n",
       " 's',\n",
       " 'with',\n",
       " 'NLTK',\n",
       " 'library',\n",
       " '!',\n",
       " 'Please',\n",
       " 'stay',\n",
       " 'with',\n",
       " 'me',\n",
       " ',',\n",
       " 'we',\n",
       " 'will',\n",
       " 'be',\n",
       " 'going',\n",
       " 'slowly',\n",
       " 'forward',\n",
       " '.']"
      ]
     },
     "execution_count": 33,
     "metadata": {},
     "output_type": "execute_result"
    }
   ],
   "source": [
    "wordpunct_tokenize(corpus)"
   ]
  },
  {
   "cell_type": "markdown",
   "id": "48d6fdbb-9657-46ca-9e13-5e1aac74f1c8",
   "metadata": {},
   "source": [
    "#### here we can see \" 's \" is considered as seperate now "
   ]
  },
  {
   "cell_type": "code",
   "execution_count": null,
   "id": "c9b9cc82-7102-4eab-8626-80592c2d1b6e",
   "metadata": {},
   "outputs": [],
   "source": []
  },
  {
   "cell_type": "markdown",
   "id": "21b36916-3de1-4963-88eb-c23430f87e36",
   "metadata": {},
   "source": [
    "#### TreebankWordTokenizer()"
   ]
  },
  {
   "cell_type": "code",
   "execution_count": 34,
   "id": "e97a7bb4-e8cb-4db5-904d-a089bd0c60cc",
   "metadata": {},
   "outputs": [],
   "source": [
    "from nltk.tokenize import TreebankWordTokenizer"
   ]
  },
  {
   "cell_type": "code",
   "execution_count": 36,
   "id": "f4eaf447-650c-40d8-a1ba-40ae9fc805ff",
   "metadata": {},
   "outputs": [],
   "source": [
    "tokenizer = TreebankWordTokenizer()"
   ]
  },
  {
   "cell_type": "code",
   "execution_count": 37,
   "id": "f4533b57-1317-4bab-90fd-8f041c9bcef4",
   "metadata": {},
   "outputs": [
    {
     "data": {
      "text/plain": [
       "['Hello',\n",
       " 'Welcome',\n",
       " ',',\n",
       " 'to',\n",
       " 'natural',\n",
       " 'language',\n",
       " 'processing',\n",
       " 'by',\n",
       " 'Subrat.',\n",
       " 'Here',\n",
       " 'you',\n",
       " 'will',\n",
       " 'learn',\n",
       " 'about',\n",
       " 'different',\n",
       " 'tokenization',\n",
       " \"'s\",\n",
       " 'with',\n",
       " 'NLTK',\n",
       " 'library',\n",
       " '!',\n",
       " 'Please',\n",
       " 'stay',\n",
       " 'with',\n",
       " 'me',\n",
       " ',',\n",
       " 'we',\n",
       " 'will',\n",
       " 'be',\n",
       " 'going',\n",
       " 'slowly',\n",
       " 'forward',\n",
       " '.']"
      ]
     },
     "execution_count": 37,
     "metadata": {},
     "output_type": "execute_result"
    }
   ],
   "source": [
    "tokenizer.tokenize(corpus)"
   ]
  },
  {
   "cell_type": "markdown",
   "id": "5e17f972-13f6-40ad-a0f2-caab5c4b822b",
   "metadata": {},
   "source": [
    "#### Here full stop is not treated as a seperate word"
   ]
  },
  {
   "cell_type": "code",
   "execution_count": null,
   "id": "b3deedc3-b52c-43dd-a3e7-45ca22836aee",
   "metadata": {},
   "outputs": [],
   "source": []
  }
 ],
 "metadata": {
  "kernelspec": {
   "display_name": "Python 3 (ipykernel)",
   "language": "python",
   "name": "python3"
  },
  "language_info": {
   "codemirror_mode": {
    "name": "ipython",
    "version": 3
   },
   "file_extension": ".py",
   "mimetype": "text/x-python",
   "name": "python",
   "nbconvert_exporter": "python",
   "pygments_lexer": "ipython3",
   "version": "3.11.7"
  }
 },
 "nbformat": 4,
 "nbformat_minor": 5
}
