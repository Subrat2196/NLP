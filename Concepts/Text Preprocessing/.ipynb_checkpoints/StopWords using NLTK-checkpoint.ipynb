{
 "cells": [
  {
   "cell_type": "markdown",
   "id": "f4029a86-5218-41d6-bb72-8a068d494493",
   "metadata": {},
   "source": [
    "### Stopwords "
   ]
  },
  {
   "cell_type": "code",
   "execution_count": 12,
   "id": "2b1f5d4e-659b-4345-b019-b01eaa8fa53e",
   "metadata": {},
   "outputs": [
    {
     "data": {
      "text/plain": [
       "'\\nStop words in Natural Language Processing (NLP) are common words that are often filtered out or ignored during text processing because they carry \\nlittle meaningful information or value for analysis. These words are typically high-frequency words that are essential for sentence structure\\nbut do not contribute significantly to the meaning or context of the text.\\nExamples of Stop Words\\nEnglish: \"a\", \"an\", \"the\", \"and\", \"or\", \"in\", \"of\", \"to\", \"is\", \"it\", \"for\", \"with\", \"on\", \"at\", \"by\", \"this\", \"that\", \"are\", \"was\", \"were\", \"as\", \\n\"but\", \"not\", etc.\\n'"
      ]
     },
     "execution_count": 12,
     "metadata": {},
     "output_type": "execute_result"
    }
   ],
   "source": [
    "\"\"\"\n",
    "Stop words in Natural Language Processing (NLP) are common words that are often filtered out or ignored during text processing because they carry \n",
    "little meaningful information or value for analysis. These words are typically high-frequency words that are essential for sentence structure\n",
    "but do not contribute significantly to the meaning or context of the text.\n",
    "Examples of Stop Words\n",
    "English: \"a\", \"an\", \"the\", \"and\", \"or\", \"in\", \"of\", \"to\", \"is\", \"it\", \"for\", \"with\", \"on\", \"at\", \"by\", \"this\", \"that\", \"are\", \"was\", \"were\", \"as\", \n",
    "\"but\", \"not\", etc.\n",
    "\"\"\""
   ]
  },
  {
   "cell_type": "code",
   "execution_count": 1,
   "id": "6b84b3d8-c5af-4505-b8c0-980650dcbf28",
   "metadata": {},
   "outputs": [],
   "source": [
    "corpus = \"\"\"\n",
    "\"Dream, dream, dream. Dreams transform into thoughts, and thoughts result in action. \n",
    "You have the power to shape your destiny. Education is the most powerful weapon to change the world.\n",
    "Embrace failure as a stepping stone to success, for it teaches resilience and determination.\n",
    "Let integrity and hard work guide your path. Remember, greatness is born from small beginnings. \n",
    "Serve others selflessly, for true success lies in contributing to society. Believe in yourself, and never stop learning. \n",
    "Together, we can build a nation of innovation, compassion, and progress. Let us strive to ignite minds and illuminate lives. Thank you.\"\n",
    "\"\"\""
   ]
  },
  {
   "cell_type": "markdown",
   "id": "3105ab66-cb64-4e7f-aa1d-c6d2a7ce71c7",
   "metadata": {},
   "source": [
    "#### Stemming with stop words"
   ]
  },
  {
   "cell_type": "code",
   "execution_count": 14,
   "id": "c2fe1a2b-9da3-4eb5-8931-0ae7143d32c8",
   "metadata": {},
   "outputs": [],
   "source": [
    "from nltk.stem import PorterStemmer"
   ]
  },
  {
   "cell_type": "code",
   "execution_count": 15,
   "id": "bc640f6b-6f16-4d0b-abac-b0f61e39c483",
   "metadata": {},
   "outputs": [],
   "source": [
    "from nltk.corpus import stopwords"
   ]
  },
  {
   "cell_type": "code",
   "execution_count": 16,
   "id": "817c8cab-684c-435c-a9a8-60c1d17d4bb9",
   "metadata": {},
   "outputs": [],
   "source": [
    "import nltk"
   ]
  },
  {
   "cell_type": "code",
   "execution_count": 17,
   "id": "0b0c718d-c951-48dc-aa0f-debc47f65ddc",
   "metadata": {},
   "outputs": [
    {
     "name": "stderr",
     "output_type": "stream",
     "text": [
      "[nltk_data] Downloading package stopwords to\n",
      "[nltk_data]     C:\\Users\\Anonymous\\AppData\\Roaming\\nltk_data...\n",
      "[nltk_data]   Package stopwords is already up-to-date!\n"
     ]
    },
    {
     "data": {
      "text/plain": [
       "True"
      ]
     },
     "execution_count": 17,
     "metadata": {},
     "output_type": "execute_result"
    }
   ],
   "source": [
    "nltk.download('stopwords')"
   ]
  },
  {
   "cell_type": "code",
   "execution_count": 18,
   "id": "2da2ff17-b6ae-4a8b-87cf-683b9443e3fd",
   "metadata": {},
   "outputs": [
    {
     "data": {
      "text/plain": [
       "['i',\n",
       " 'me',\n",
       " 'my',\n",
       " 'myself',\n",
       " 'we',\n",
       " 'our',\n",
       " 'ours',\n",
       " 'ourselves',\n",
       " 'you',\n",
       " \"you're\",\n",
       " \"you've\",\n",
       " \"you'll\",\n",
       " \"you'd\",\n",
       " 'your',\n",
       " 'yours',\n",
       " 'yourself',\n",
       " 'yourselves',\n",
       " 'he',\n",
       " 'him',\n",
       " 'his',\n",
       " 'himself',\n",
       " 'she',\n",
       " \"she's\",\n",
       " 'her',\n",
       " 'hers',\n",
       " 'herself',\n",
       " 'it',\n",
       " \"it's\",\n",
       " 'its',\n",
       " 'itself',\n",
       " 'they',\n",
       " 'them',\n",
       " 'their',\n",
       " 'theirs',\n",
       " 'themselves',\n",
       " 'what',\n",
       " 'which',\n",
       " 'who',\n",
       " 'whom',\n",
       " 'this',\n",
       " 'that',\n",
       " \"that'll\",\n",
       " 'these',\n",
       " 'those',\n",
       " 'am',\n",
       " 'is',\n",
       " 'are',\n",
       " 'was',\n",
       " 'were',\n",
       " 'be',\n",
       " 'been',\n",
       " 'being',\n",
       " 'have',\n",
       " 'has',\n",
       " 'had',\n",
       " 'having',\n",
       " 'do',\n",
       " 'does',\n",
       " 'did',\n",
       " 'doing',\n",
       " 'a',\n",
       " 'an',\n",
       " 'the',\n",
       " 'and',\n",
       " 'but',\n",
       " 'if',\n",
       " 'or',\n",
       " 'because',\n",
       " 'as',\n",
       " 'until',\n",
       " 'while',\n",
       " 'of',\n",
       " 'at',\n",
       " 'by',\n",
       " 'for',\n",
       " 'with',\n",
       " 'about',\n",
       " 'against',\n",
       " 'between',\n",
       " 'into',\n",
       " 'through',\n",
       " 'during',\n",
       " 'before',\n",
       " 'after',\n",
       " 'above',\n",
       " 'below',\n",
       " 'to',\n",
       " 'from',\n",
       " 'up',\n",
       " 'down',\n",
       " 'in',\n",
       " 'out',\n",
       " 'on',\n",
       " 'off',\n",
       " 'over',\n",
       " 'under',\n",
       " 'again',\n",
       " 'further',\n",
       " 'then',\n",
       " 'once',\n",
       " 'here',\n",
       " 'there',\n",
       " 'when',\n",
       " 'where',\n",
       " 'why',\n",
       " 'how',\n",
       " 'all',\n",
       " 'any',\n",
       " 'both',\n",
       " 'each',\n",
       " 'few',\n",
       " 'more',\n",
       " 'most',\n",
       " 'other',\n",
       " 'some',\n",
       " 'such',\n",
       " 'no',\n",
       " 'nor',\n",
       " 'not',\n",
       " 'only',\n",
       " 'own',\n",
       " 'same',\n",
       " 'so',\n",
       " 'than',\n",
       " 'too',\n",
       " 'very',\n",
       " 's',\n",
       " 't',\n",
       " 'can',\n",
       " 'will',\n",
       " 'just',\n",
       " 'don',\n",
       " \"don't\",\n",
       " 'should',\n",
       " \"should've\",\n",
       " 'now',\n",
       " 'd',\n",
       " 'll',\n",
       " 'm',\n",
       " 'o',\n",
       " 're',\n",
       " 've',\n",
       " 'y',\n",
       " 'ain',\n",
       " 'aren',\n",
       " \"aren't\",\n",
       " 'couldn',\n",
       " \"couldn't\",\n",
       " 'didn',\n",
       " \"didn't\",\n",
       " 'doesn',\n",
       " \"doesn't\",\n",
       " 'hadn',\n",
       " \"hadn't\",\n",
       " 'hasn',\n",
       " \"hasn't\",\n",
       " 'haven',\n",
       " \"haven't\",\n",
       " 'isn',\n",
       " \"isn't\",\n",
       " 'ma',\n",
       " 'mightn',\n",
       " \"mightn't\",\n",
       " 'mustn',\n",
       " \"mustn't\",\n",
       " 'needn',\n",
       " \"needn't\",\n",
       " 'shan',\n",
       " \"shan't\",\n",
       " 'shouldn',\n",
       " \"shouldn't\",\n",
       " 'wasn',\n",
       " \"wasn't\",\n",
       " 'weren',\n",
       " \"weren't\",\n",
       " 'won',\n",
       " \"won't\",\n",
       " 'wouldn',\n",
       " \"wouldn't\"]"
      ]
     },
     "execution_count": 18,
     "metadata": {},
     "output_type": "execute_result"
    }
   ],
   "source": [
    "stopwords.words('english')"
   ]
  },
  {
   "cell_type": "code",
   "execution_count": null,
   "id": "4bc577e9-4a54-410b-b96a-4299bab00288",
   "metadata": {},
   "outputs": [],
   "source": []
  },
  {
   "cell_type": "markdown",
   "id": "1e5c147a-aa22-4767-9468-870628850fb6",
   "metadata": {},
   "source": [
    "#### Best way is to create your own stopwords "
   ]
  },
  {
   "cell_type": "code",
   "execution_count": 19,
   "id": "4267f52b-f9f4-4e54-b08c-3b02e2953af1",
   "metadata": {},
   "outputs": [],
   "source": [
    "stemming = PorterStemmer()"
   ]
  },
  {
   "cell_type": "code",
   "execution_count": 20,
   "id": "2d11eb16-49e3-4386-ad1d-6c49f9c0c274",
   "metadata": {},
   "outputs": [],
   "source": [
    "from nltk.tokenize import sent_tokenize"
   ]
  },
  {
   "cell_type": "code",
   "execution_count": 21,
   "id": "531b7fab-e689-469c-bdc8-5391fc733ee5",
   "metadata": {},
   "outputs": [],
   "source": [
    "document = sent_tokenize(corpus)"
   ]
  },
  {
   "cell_type": "code",
   "execution_count": 22,
   "id": "5381aed0-729c-4a1c-997c-5954ad6eebaf",
   "metadata": {},
   "outputs": [
    {
     "data": {
      "text/plain": [
       "['\\n\"Dream, dream, dream.',\n",
       " 'Dreams transform into thoughts, and thoughts result in action.',\n",
       " 'You have the power to shape your destiny.',\n",
       " 'Education is the most powerful weapon to change the world.',\n",
       " 'Embrace failure as a stepping stone to success, for it teaches resilience and determination.',\n",
       " 'Let integrity and hard work guide your path.',\n",
       " 'Remember, greatness is born from small beginnings.',\n",
       " 'Serve others selflessly, for true success lies in contributing to society.',\n",
       " 'Believe in yourself, and never stop learning.',\n",
       " 'Together, we can build a nation of innovation, compassion, and progress.',\n",
       " 'Let us strive to ignite minds and illuminate lives.',\n",
       " 'Thank you.\"']"
      ]
     },
     "execution_count": 22,
     "metadata": {},
     "output_type": "execute_result"
    }
   ],
   "source": [
    "document"
   ]
  },
  {
   "cell_type": "code",
   "execution_count": 23,
   "id": "b3193578-72f5-4ae4-af00-ea49f82eb9d7",
   "metadata": {},
   "outputs": [],
   "source": [
    "from nltk.tokenize import word_tokenize"
   ]
  },
  {
   "cell_type": "markdown",
   "id": "23612d8a-c76a-4638-ba2f-da73921c282e",
   "metadata": {},
   "source": [
    "### Tasks :- Apply stopwords in each sentence in document , then apply stemming"
   ]
  },
  {
   "cell_type": "code",
   "execution_count": 34,
   "id": "90597df0-d059-4c32-84c8-29a877f8f425",
   "metadata": {
    "scrolled": true
   },
   "outputs": [
    {
     "name": "stdout",
     "output_type": "stream",
     "text": [
      "[\"''\", 'Dream', ',', 'dream', ',', 'dream', '.']\n",
      "['Dreams', 'transform', 'into', 'thoughts', ',', 'and', 'thoughts', 'result', 'in', 'action', '.']\n",
      "['You', 'have', 'the', 'power', 'to', 'shape', 'your', 'destiny', '.']\n",
      "['Education', 'is', 'the', 'most', 'powerful', 'weapon', 'to', 'change', 'the', 'world', '.']\n",
      "['Embrace', 'failure', 'as', 'a', 'stepping', 'stone', 'to', 'success', ',', 'for', 'it', 'teaches', 'resilience', 'and', 'determination', '.']\n",
      "['Let', 'integrity', 'and', 'hard', 'work', 'guide', 'your', 'path', '.']\n",
      "['Remember', ',', 'greatness', 'is', 'born', 'from', 'small', 'beginnings', '.']\n",
      "['Serve', 'others', 'selflessly', ',', 'for', 'true', 'success', 'lies', 'in', 'contributing', 'to', 'society', '.']\n",
      "['Believe', 'in', 'yourself', ',', 'and', 'never', 'stop', 'learning', '.']\n",
      "['Together', ',', 'we', 'can', 'build', 'a', 'nation', 'of', 'innovation', ',', 'compassion', ',', 'and', 'progress', '.']\n",
      "['Let', 'us', 'strive', 'to', 'ignite', 'minds', 'and', 'illuminate', 'lives', '.']\n",
      "['Thank', 'you', '.', \"''\"]\n"
     ]
    }
   ],
   "source": [
    "for sentence in document:\n",
    "    words=word_tokenize(sentence)\n",
    "    print(words)"
   ]
  },
  {
   "cell_type": "code",
   "execution_count": 29,
   "id": "50a2afbe-68b0-4519-80c8-e283a0a364bc",
   "metadata": {},
   "outputs": [
    {
     "data": {
      "text/plain": [
       "[\"''\", 'Dream', ',', 'dream', ',', 'dream', '.']"
      ]
     },
     "execution_count": 29,
     "metadata": {},
     "output_type": "execute_result"
    }
   ],
   "source": [
    "word_tokenize(document[0])"
   ]
  },
  {
   "cell_type": "code",
   "execution_count": 27,
   "id": "0a0489dd-80e0-4e17-b233-3949ed1c6c44",
   "metadata": {},
   "outputs": [
    {
     "data": {
      "text/plain": [
       "12"
      ]
     },
     "execution_count": 27,
     "metadata": {},
     "output_type": "execute_result"
    }
   ],
   "source": [
    "len(document)"
   ]
  },
  {
   "cell_type": "code",
   "execution_count": 37,
   "id": "090243d7-1427-4432-a36b-ea3858c223ac",
   "metadata": {},
   "outputs": [],
   "source": [
    "from nltk.stem import PorterStemmer"
   ]
  },
  {
   "cell_type": "code",
   "execution_count": 38,
   "id": "2f5b60fa-9d54-44ae-9423-8748c4c452f9",
   "metadata": {},
   "outputs": [],
   "source": [
    "stemming = PorterStemmer()"
   ]
  },
  {
   "cell_type": "code",
   "execution_count": 40,
   "id": "08d0c94d-7bf4-4c69-8545-ae8342c7227a",
   "metadata": {},
   "outputs": [],
   "source": [
    "processed_document=[]\n",
    "for sentence in document:\n",
    "    words = word_tokenize(sentence)\n",
    "    words = [stemming.stem(word) for word in words if word not in set(stopwords.words('english'))]\n",
    "    sentence = ' '.join(words)\n",
    "    processed_document.append(sentence)"
   ]
  },
  {
   "cell_type": "code",
   "execution_count": 41,
   "id": "db407093-201a-4663-bc9d-0c6bc8eef8dc",
   "metadata": {},
   "outputs": [
    {
     "data": {
      "text/plain": [
       "[\"'' dream , dream , dream .\",\n",
       " 'dream transform thought , thought result action .',\n",
       " 'you power shape destini .',\n",
       " 'educ power weapon chang world .',\n",
       " 'embrac failur step stone success , teach resili determin .',\n",
       " 'let integr hard work guid path .',\n",
       " 'rememb , great born small begin .',\n",
       " 'serv other selflessli , true success lie contribut societi .',\n",
       " 'believ , never stop learn .',\n",
       " 'togeth , build nation innov , compass , progress .',\n",
       " 'let us strive ignit mind illumin live .',\n",
       " \"thank . ''\"]"
      ]
     },
     "execution_count": 41,
     "metadata": {},
     "output_type": "execute_result"
    }
   ],
   "source": [
    "processed_document"
   ]
  },
  {
   "cell_type": "markdown",
   "id": "2188871f-f2aa-4388-b179-9b7d61b615fd",
   "metadata": {},
   "source": [
    "### doing lemmatizing"
   ]
  },
  {
   "cell_type": "code",
   "execution_count": 42,
   "id": "675b9a1a-4715-476c-8a4e-08055e3b3cad",
   "metadata": {},
   "outputs": [],
   "source": [
    "from nltk.stem import WordNetLemmatizer"
   ]
  },
  {
   "cell_type": "code",
   "execution_count": 43,
   "id": "6305ad55-6945-4833-a3bf-b1f3f49e252e",
   "metadata": {},
   "outputs": [],
   "source": [
    "word_lemm = WordNetLemmatizer()"
   ]
  },
  {
   "cell_type": "code",
   "execution_count": 44,
   "id": "5913c366-756a-4a5c-8aa0-35465d03413b",
   "metadata": {},
   "outputs": [],
   "source": [
    "processed_document=[]\n",
    "for sentence in document:\n",
    "    words = word_tokenize(sentence)\n",
    "    words = [word_lemm.lemmatize(word) for word in words if word not in set(stopwords.words('english'))]\n",
    "    sentence = ' '.join(words)\n",
    "    processed_document.append(sentence)"
   ]
  },
  {
   "cell_type": "code",
   "execution_count": 45,
   "id": "9a2c180b-8ffa-4d4e-8a31-14b64b801cf0",
   "metadata": {},
   "outputs": [
    {
     "data": {
      "text/plain": [
       "[\"'' Dream , dream , dream .\",\n",
       " 'Dreams transform thought , thought result action .',\n",
       " 'You power shape destiny .',\n",
       " 'Education powerful weapon change world .',\n",
       " 'Embrace failure stepping stone success , teach resilience determination .',\n",
       " 'Let integrity hard work guide path .',\n",
       " 'Remember , greatness born small beginning .',\n",
       " 'Serve others selflessly , true success lie contributing society .',\n",
       " 'Believe , never stop learning .',\n",
       " 'Together , build nation innovation , compassion , progress .',\n",
       " 'Let u strive ignite mind illuminate life .',\n",
       " \"Thank . ''\"]"
      ]
     },
     "execution_count": 45,
     "metadata": {},
     "output_type": "execute_result"
    }
   ],
   "source": [
    "processed_document"
   ]
  },
  {
   "cell_type": "code",
   "execution_count": null,
   "id": "dd56fc50-aee8-4642-838f-a988eb4fdc2f",
   "metadata": {},
   "outputs": [],
   "source": []
  }
 ],
 "metadata": {
  "kernelspec": {
   "display_name": "Python 3 (ipykernel)",
   "language": "python",
   "name": "python3"
  },
  "language_info": {
   "codemirror_mode": {
    "name": "ipython",
    "version": 3
   },
   "file_extension": ".py",
   "mimetype": "text/x-python",
   "name": "python",
   "nbconvert_exporter": "python",
   "pygments_lexer": "ipython3",
   "version": "3.11.7"
  }
 },
 "nbformat": 4,
 "nbformat_minor": 5
}
