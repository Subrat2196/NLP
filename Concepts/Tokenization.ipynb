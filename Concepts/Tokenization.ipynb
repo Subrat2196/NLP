{
 "cells": [
  {
   "cell_type": "markdown",
   "id": "472570e6-aa03-4ad8-a7fd-440817b4ffe3",
   "metadata": {},
   "source": [
    "### Tokenization is the process of converting the paragraph/corpus into sentences/documents or sentences/documents into words"
   ]
  },
  {
   "cell_type": "markdown",
   "id": "321e5a1c-b82f-41c4-a973-2855265c274d",
   "metadata": {},
   "source": [
    "#### In NLP we need to do multiple tokenization"
   ]
  },
  {
   "cell_type": "markdown",
   "id": "7466f368-cb77-41b1-9fa7-bade4173dc60",
   "metadata": {},
   "source": [
    "##### Corpus/Paragraph -> Tokenization(look into full stop or exclamation) -> Document/Sentences"
   ]
  },
  {
   "cell_type": "markdown",
   "id": "648e3fde-1316-485e-8d35-554ecdd9d24b",
   "metadata": {},
   "source": [
    "##### Document/Sentences -> Tokenization -> Words"
   ]
  },
  {
   "cell_type": "markdown",
   "id": "24c5ac9d-160a-4685-a44a-5b4d763d200f",
   "metadata": {},
   "source": [
    "#### Vocabulary/Dictionary is the unique words in the sentences"
   ]
  }
 ],
 "metadata": {
  "kernelspec": {
   "display_name": "Python 3 (ipykernel)",
   "language": "python",
   "name": "python3"
  },
  "language_info": {
   "codemirror_mode": {
    "name": "ipython",
    "version": 3
   },
   "file_extension": ".py",
   "mimetype": "text/x-python",
   "name": "python",
   "nbconvert_exporter": "python",
   "pygments_lexer": "ipython3",
   "version": "3.11.7"
  }
 },
 "nbformat": 4,
 "nbformat_minor": 5
}
